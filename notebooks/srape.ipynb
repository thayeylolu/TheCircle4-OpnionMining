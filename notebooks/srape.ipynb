{
 "cells": [
  {
   "cell_type": "code",
   "execution_count": 32,
   "metadata": {},
   "outputs": [],
   "source": [
    "import snscrape.modules.twitter as sntwitter\n",
    "import pandas as pd\n",
    "import datetime as dt\n",
    "today_date = dt.date.today().strftime('%Y-%m-%d')\n",
    "\n",
    "query_list = [\n",
    "            (f\"(TheCircle (#TheCircle) lang:en  since:2022-05-01 until:{today_date})\"),\n",
    "            (f\"(theCircle (#TheCircleNetflix) lang:en  since:2022-05-01 until:{today_date})\"),\n",
    "            (f\"(TheCircle (#TheCircleNetflix) lang:en  since:2022-05-01 until:{today_date})\"),\n",
    "            (f\"(thecircle (#TheCircle) lang:en  since:2022-05-01 until:{today_date})\"),\n",
    "            (f\"(the circle (#TheCircle) lang:en  since:2022-05-01 until:{today_date})\"),\n",
    "            (f\"(the circle (#TheCircleNetflix) lang:en  since:2022-05-01 until:{today_date})\") ,\n",
    "            (f\"(the circle (#TheCircle4) lang:en  since:2022-05-01 until:{today_date})\") ,\n",
    "                     \n",
    "]\n",
    "tweets = []\n",
    "limit = 50000\n",
    "\n",
    "for query in query_list:\n",
    "    for tweet in sntwitter.TwitterSearchScraper(query).get_items():\n",
    "        if len(tweets) > limit:\n",
    "            break\n",
    "        else:\n",
    "            tweets.append([tweet.date, tweet.user.username, tweet.content])\n",
    "            \n",
    "df = pd.DataFrame(tweets, columns=['Date', 'User', 'Tweet'])\n",
    "# to save to csv\n",
    "df.to_csv('tweet_combo_all.csv')"
   ]
  },
  {
   "cell_type": "code",
   "execution_count": 34,
   "metadata": {},
   "outputs": [
    {
     "name": "stdout",
     "output_type": "stream",
     "text": [
      "<class 'pandas.core.frame.DataFrame'>\n",
      "RangeIndex: 22019 entries, 0 to 22018\n",
      "Data columns (total 4 columns):\n",
      " #   Column      Non-Null Count  Dtype \n",
      "---  ------      --------------  ----- \n",
      " 0   Unnamed: 0  22019 non-null  int64 \n",
      " 1   Date        22019 non-null  object\n",
      " 2   User        22019 non-null  object\n",
      " 3   Tweet       22019 non-null  object\n",
      "dtypes: int64(1), object(3)\n",
      "memory usage: 688.2+ KB\n"
     ]
    }
   ],
   "source": [
    "import pandas as pd\n",
    "twt =pd.read_csv('tweet_combo_all.csv')\n",
    "twt.info()"
   ]
  },
  {
   "cell_type": "code",
   "execution_count": 35,
   "metadata": {},
   "outputs": [
    {
     "data": {
      "text/html": [
       "<div>\n",
       "<style scoped>\n",
       "    .dataframe tbody tr th:only-of-type {\n",
       "        vertical-align: middle;\n",
       "    }\n",
       "\n",
       "    .dataframe tbody tr th {\n",
       "        vertical-align: top;\n",
       "    }\n",
       "\n",
       "    .dataframe thead th {\n",
       "        text-align: right;\n",
       "    }\n",
       "</style>\n",
       "<table border=\"1\" class=\"dataframe\">\n",
       "  <thead>\n",
       "    <tr style=\"text-align: right;\">\n",
       "      <th></th>\n",
       "      <th>Unnamed: 0</th>\n",
       "      <th>Date</th>\n",
       "      <th>User</th>\n",
       "      <th>Tweet</th>\n",
       "    </tr>\n",
       "  </thead>\n",
       "  <tbody>\n",
       "    <tr>\n",
       "      <th>0</th>\n",
       "      <td>0</td>\n",
       "      <td>2022-05-13 23:57:47+00:00</td>\n",
       "      <td>beardsational</td>\n",
       "      <td>I’m sorry, but if you received two party invit...</td>\n",
       "    </tr>\n",
       "    <tr>\n",
       "      <th>1</th>\n",
       "      <td>1</td>\n",
       "      <td>2022-05-13 23:57:14+00:00</td>\n",
       "      <td>KingDelfrano</td>\n",
       "      <td>enjoying this season of #TheCircle so far… nob...</td>\n",
       "    </tr>\n",
       "    <tr>\n",
       "      <th>2</th>\n",
       "      <td>2</td>\n",
       "      <td>2022-05-13 23:51:51+00:00</td>\n",
       "      <td>KMJeezy</td>\n",
       "      <td>Ok I aint like Yu Ling at first but she is com...</td>\n",
       "    </tr>\n",
       "    <tr>\n",
       "      <th>3</th>\n",
       "      <td>3</td>\n",
       "      <td>2022-05-13 23:49:00+00:00</td>\n",
       "      <td>Blake_Jorgensen</td>\n",
       "      <td>I need someone to watch #TheCircle with me so ...</td>\n",
       "    </tr>\n",
       "    <tr>\n",
       "      <th>4</th>\n",
       "      <td>4</td>\n",
       "      <td>2022-05-13 23:47:58+00:00</td>\n",
       "      <td>jceron12</td>\n",
       "      <td>I haven’t been seeing any tweets about #thecir...</td>\n",
       "    </tr>\n",
       "  </tbody>\n",
       "</table>\n",
       "</div>"
      ],
      "text/plain": [
       "   Unnamed: 0                       Date             User  \\\n",
       "0           0  2022-05-13 23:57:47+00:00    beardsational   \n",
       "1           1  2022-05-13 23:57:14+00:00     KingDelfrano   \n",
       "2           2  2022-05-13 23:51:51+00:00          KMJeezy   \n",
       "3           3  2022-05-13 23:49:00+00:00  Blake_Jorgensen   \n",
       "4           4  2022-05-13 23:47:58+00:00         jceron12   \n",
       "\n",
       "                                               Tweet  \n",
       "0  I’m sorry, but if you received two party invit...  \n",
       "1  enjoying this season of #TheCircle so far… nob...  \n",
       "2  Ok I aint like Yu Ling at first but she is com...  \n",
       "3  I need someone to watch #TheCircle with me so ...  \n",
       "4  I haven’t been seeing any tweets about #thecir...  "
      ]
     },
     "execution_count": 35,
     "metadata": {},
     "output_type": "execute_result"
    }
   ],
   "source": [
    "twt.head()"
   ]
  },
  {
   "cell_type": "code",
   "execution_count": 36,
   "metadata": {},
   "outputs": [],
   "source": [
    "df = twt"
   ]
  },
  {
   "cell_type": "code",
   "execution_count": null,
   "metadata": {},
   "outputs": [],
   "source": []
  }
 ],
 "metadata": {
  "interpreter": {
   "hash": "49c76ddf62ca98de74eedc2bb55b33e27315dcb91d5e2af2ea84b0e3308bb054"
  },
  "kernelspec": {
   "display_name": "Python 3.9.9 ('dsci572env')",
   "language": "python",
   "name": "python3"
  },
  "language_info": {
   "codemirror_mode": {
    "name": "ipython",
    "version": 3
   },
   "file_extension": ".py",
   "mimetype": "text/x-python",
   "name": "python",
   "nbconvert_exporter": "python",
   "pygments_lexer": "ipython3",
   "version": "3.9.12"
  },
  "orig_nbformat": 4
 },
 "nbformat": 4,
 "nbformat_minor": 2
}
